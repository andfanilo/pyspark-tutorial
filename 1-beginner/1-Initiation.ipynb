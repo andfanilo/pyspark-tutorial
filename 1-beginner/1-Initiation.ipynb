{
 "cells": [
  {
   "cell_type": "markdown",
   "metadata": {},
   "source": [
    "Before you turn this problem in, make sure everything runs as expected. First, **restart the kernel** (in the menubar, select Kernel$\\rightarrow$Restart) and then **run all cells** (in the menubar, select Cell$\\rightarrow$Run All).\n",
    "\n",
    "Make sure you fill in any place that says `YOUR CODE HERE` or \"YOUR ANSWER HERE\", as well as your name and collaborators below:"
   ]
  },
  {
   "cell_type": "code",
   "execution_count": null,
   "metadata": {},
   "outputs": [],
   "source": [
    "NAME = \"\"\n",
    "COLLABORATORS = \"\""
   ]
  },
  {
   "cell_type": "markdown",
   "metadata": {},
   "source": [
    "---"
   ]
  },
  {
   "cell_type": "markdown",
   "metadata": {
    "deletable": false,
    "editable": false,
    "nbgrader": {
     "cell_type": "markdown",
     "checksum": "50383873871f79ee448e733edfb5163f",
     "grade": false,
     "grade_id": "jupyter",
     "locked": true,
     "schema_version": 3,
     "solution": false
    }
   },
   "source": [
    "For this problem set, we'll be getting used to the Jupyter notebook:\n",
    "\n",
    "![](jupyter.png)\n",
    "\n",
    "The Jupyter Notebook is an open-source web application that allows you to create and share documents that contain live code, equations, visualizations and narrative text. We will use it to run Python code.\n",
    "\n",
    "The goal of each notebook is to answer a set of questions by implementing code in the specified function. Your implementation should then pass the following locked cell with unit tests.\n",
    "\n",
    "To execute a cell, `CTRL + ENTER` when selected. Other shortcuts are available in the `Cell...` tab."
   ]
  },
  {
   "cell_type": "markdown",
   "metadata": {
    "deletable": false,
    "editable": false,
    "nbgrader": {
     "cell_type": "markdown",
     "checksum": "44a895e5ad226d6e0bb17645415f8d9d",
     "grade": false,
     "grade_id": "cell-8e85fc8f2aa28a84",
     "locked": true,
     "schema_version": 3,
     "solution": false
    }
   },
   "source": [
    "## Prerequisites"
   ]
  },
  {
   "cell_type": "code",
   "execution_count": null,
   "metadata": {},
   "outputs": [],
   "source": [
    "# try to edit and execute me :)\n",
    "\n",
    "print('Hello world !')"
   ]
  },
  {
   "cell_type": "markdown",
   "metadata": {
    "deletable": false,
    "editable": false,
    "nbgrader": {
     "cell_type": "markdown",
     "checksum": "a54efbb8ec9c756279f10c796a07a2eb",
     "grade": false,
     "grade_id": "cell-2b252ac4297cf2a2",
     "locked": true,
     "schema_version": 3,
     "solution": false
    }
   },
   "source": [
    "---\n",
    "## Warm up\n",
    "In this part, we solve very simple Python exercises to warm up.\n",
    "\n",
    "## Question\n",
    "\n",
    "Return the sum of two numbers.\n",
    "\n",
    "**Hint** : Before each cell with a function you need to implement, we provide you with an empty cell for you to test ideas."
   ]
  },
  {
   "cell_type": "code",
   "execution_count": null,
   "metadata": {},
   "outputs": [],
   "source": []
  },
  {
   "cell_type": "code",
   "execution_count": null,
   "metadata": {
    "deletable": false,
    "nbgrader": {
     "cell_type": "code",
     "checksum": "2edf7c0c14cc1385a13fcbc03556df0b",
     "grade": false,
     "grade_id": "sum",
     "locked": false,
     "schema_version": 3,
     "solution": true
    }
   },
   "outputs": [],
   "source": [
    "def sum(a, b):\n",
    "    \"\"\"\n",
    "    Return a + b\n",
    "    \"\"\"\n",
    "    # YOUR CODE HERE\n",
    "    raise NotImplementedError()"
   ]
  },
  {
   "cell_type": "code",
   "execution_count": null,
   "metadata": {
    "deletable": false,
    "editable": false,
    "nbgrader": {
     "cell_type": "code",
     "checksum": "65872034cdee942d94d8495674cfc4f5",
     "grade": true,
     "grade_id": "correct_squares",
     "locked": false,
     "points": 1,
     "schema_version": 3,
     "solution": false
    }
   },
   "outputs": [],
   "source": [
    "\"\"\"\n",
    "This is an autograded cell. When you execute this cell with your implementation, it should not return any assert errors.\n",
    "You are being graded by the number of correct unit tests you pass in those cells. \n",
    "From my side, we also test your code on private hidden tests so don't try to just solve public ones :).\n",
    "We also provide you with the score you can get per cell.\n",
    "\n",
    "1 point\n",
    "\"\"\"\n",
    "assert sum(1, 2) == 3"
   ]
  },
  {
   "cell_type": "markdown",
   "metadata": {
    "deletable": false,
    "editable": false,
    "nbgrader": {
     "cell_type": "markdown",
     "checksum": "3869b328f65fd457ecbcefd4a6f0ccc3",
     "grade": false,
     "grade_id": "cell-5b34e37e8734211c",
     "locked": true,
     "schema_version": 3,
     "solution": false
    }
   },
   "source": [
    "## Question\n",
    "\n",
    "Square all numbers in a list with a list comprehension.\n",
    "\n",
    "The following is a list comprehension :\n",
    "\n",
    "```python\n",
    ">> numbers = [1, 2, 3]\n",
    ">> [x * 2 for x in numbers]\n",
    "[2, 4, 6]\n",
    "```"
   ]
  },
  {
   "cell_type": "code",
   "execution_count": null,
   "metadata": {},
   "outputs": [],
   "source": []
  },
  {
   "cell_type": "code",
   "execution_count": null,
   "metadata": {
    "deletable": false,
    "nbgrader": {
     "cell_type": "code",
     "checksum": "847b414e7fda4127183316fbbc9962c5",
     "grade": false,
     "grade_id": "cell-6d5d792541e340d7",
     "locked": false,
     "schema_version": 3,
     "solution": true
    }
   },
   "outputs": [],
   "source": [
    "def squared(numbers):\n",
    "    \"\"\"\n",
    "    Given a list of numbers, return a list of all those numbers, squared.\n",
    "    \"\"\"\n",
    "    # YOUR CODE HERE\n",
    "    raise NotImplementedError()"
   ]
  },
  {
   "cell_type": "code",
   "execution_count": null,
   "metadata": {
    "deletable": false,
    "editable": false,
    "nbgrader": {
     "cell_type": "code",
     "checksum": "5efaec65c957892fc0651ba89132cc28",
     "grade": true,
     "grade_id": "cell-735c6822de60af46",
     "locked": true,
     "points": 1,
     "schema_version": 3,
     "solution": false
    }
   },
   "outputs": [],
   "source": [
    "\"\"\"\n",
    "Graded cell\n",
    "\n",
    "1 point\n",
    "\"\"\"\n",
    "assert squared([2, 4, 6]) == [4, 16, 36]"
   ]
  },
  {
   "cell_type": "markdown",
   "metadata": {
    "deletable": false,
    "editable": false,
    "nbgrader": {
     "cell_type": "markdown",
     "checksum": "8705596bc0075dfcffd2d2e02a0773d5",
     "grade": false,
     "grade_id": "cell-39828ba736299691",
     "locked": true,
     "schema_version": 3,
     "solution": false
    }
   },
   "source": [
    "## Question\n",
    "\n",
    "Implement an algorithm to determine if a list of numbers has all unique numbers, that is each element appears exactly once inside it."
   ]
  },
  {
   "cell_type": "code",
   "execution_count": null,
   "metadata": {},
   "outputs": [],
   "source": []
  },
  {
   "cell_type": "code",
   "execution_count": null,
   "metadata": {
    "deletable": false,
    "nbgrader": {
     "cell_type": "code",
     "checksum": "9948d5b8a5a1633fb7b67c6df8bfb162",
     "grade": false,
     "grade_id": "cell-07102bfb34e072cc",
     "locked": false,
     "schema_version": 3,
     "solution": true
    }
   },
   "outputs": [],
   "source": [
    "def is_unique(numbers):\n",
    "    \"\"\"\n",
    "    Return True if list of numbers contains only unique numbers, False otherwise.\n",
    "    \"\"\"\n",
    "    # Here, I will help a bit, use a dictionary to store encountered numbers.\n",
    "    encountered = {}\n",
    "    encountered[3] = 1\n",
    "    for number in numbers:\n",
    "        if number in encountered:\n",
    "            encountered[3] += 1\n",
    "    # YOUR CODE HERE\n",
    "    raise NotImplementedError()"
   ]
  },
  {
   "cell_type": "code",
   "execution_count": null,
   "metadata": {
    "deletable": false,
    "editable": false,
    "nbgrader": {
     "cell_type": "code",
     "checksum": "77a02fe868f61d7aa7c86cf779dfc661",
     "grade": true,
     "grade_id": "cell-437cc494fa46d3ad",
     "locked": true,
     "points": 1,
     "schema_version": 3,
     "solution": false
    }
   },
   "outputs": [],
   "source": [
    "\"\"\"\n",
    "Graded cell\n",
    "\n",
    "1 point\n",
    "\"\"\"\n",
    "assert is_unique([2, 5, 9, 7])\n",
    "assert not is_unique([2, 5, 5, 7])"
   ]
  }
 ],
 "metadata": {
  "kernelspec": {
   "display_name": "Python 3 (ipykernel)",
   "language": "python",
   "name": "python3"
  },
  "language_info": {
   "codemirror_mode": {
    "name": "ipython",
    "version": 3
   },
   "file_extension": ".py",
   "mimetype": "text/x-python",
   "name": "python",
   "nbconvert_exporter": "python",
   "pygments_lexer": "ipython3",
   "version": "3.8.12"
  }
 },
 "nbformat": 4,
 "nbformat_minor": 1
}
